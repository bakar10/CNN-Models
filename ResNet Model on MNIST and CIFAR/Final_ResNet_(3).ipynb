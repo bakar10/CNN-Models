{
  "nbformat": 4,
  "nbformat_minor": 0,
  "metadata": {
    "colab": {
      "private_outputs": true,
      "provenance": []
    },
    "kernelspec": {
      "name": "python3",
      "display_name": "Python 3"
    },
    "language_info": {
      "name": "python"
    }
  },
  "cells": [
    {
      "cell_type": "code",
      "source": [
        "import tensorflow as tf\n",
        "from tensorflow import keras\n",
        "import numpy as np\n",
        "from sklearn.model_selection import train_test_split\n",
        "import matplotlib.pyplot as plt\n",
        "from tensorflow.keras.applications import ResNet50\n",
        "from tensorflow.keras.layers import Input, Dense, GlobalAveragePooling2D\n",
        "from sklearn.metrics import confusion_matrix\n",
        "from sklearn.metrics import precision_score\n",
        "from sklearn.metrics import recall_score\n",
        "from sklearn.metrics import f1_score\n",
        "from tensorflow.keras.preprocessing.image import img_to_array, array_to_img\n",
        "from tensorflow.keras.utils import to_categorical\n"
      ],
      "metadata": {
        "id": "n9JWHTzUs441"
      },
      "execution_count": null,
      "outputs": []
    },
    {
      "cell_type": "code",
      "source": [
        "# Load MNIST dataset\n",
        "(mnist_x_train, mnist_y_train), (mnist_x_test, mnist_y_test) = tf.keras.datasets.mnist.load_data()\n",
        "mnist_x_train, mnist_x_test = mnist_x_train / 255.0, mnist_x_test / 255.0\n",
        "\n",
        "# Load CIFAR-10 dataset\n",
        "(cifar10_x_train, cifar10_y_train), (cifar10_x_test, cifar10_y_test) = tf.keras.datasets.cifar10.load_data()\n",
        "cifar10_x_train, cifar10_x_test = cifar10_x_train / 255.0, cifar10_x_test / 255.0\n",
        "\n",
        "# Splitting MNIST dataset into train, validation, and test sets\n",
        "mnist_x_train, mnist_x_val, mnist_y_train, mnist_y_val = train_test_split(\n",
        "    mnist_x_train, mnist_y_train, train_size=0.8, test_size=0.2, random_state=42\n",
        ")\n",
        "mnist_x_test, mnist_y_test = mnist_x_test[:1000], mnist_y_test[:1000]  # Limiting test set size\n",
        "\n",
        "# Splitting CIFAR-10 dataset into train, validation, and test sets\n",
        "cifar10_x_train, cifar10_x_val, cifar10_y_train, cifar10_y_val = train_test_split(\n",
        "    cifar10_x_train, cifar10_y_train, train_size=0.8, test_size=0.2, random_state=42\n",
        ")\n",
        "cifar10_x_test, cifar10_y_test = cifar10_x_test[:1000], cifar10_y_test[:1000]  # Limiting test set size"
      ],
      "metadata": {
        "id": "XmngfdXjs46f"
      },
      "execution_count": null,
      "outputs": []
    },
    {
      "cell_type": "code",
      "source": [
        "# Class names for plotting\n",
        "class_names_mnist = ['zero', 'one', 'two', 'three', 'four',\n",
        "                     'five', 'six', 'seven', 'eight', 'nine']\n",
        "# Plot MNIST samples\n",
        "plt.figure(figsize=(10, 10))\n",
        "for i in range(25):\n",
        "    plt.subplot(5, 5, i + 1)\n",
        "    plt.xticks([])\n",
        "    plt.yticks([])\n",
        "    plt.grid(False)\n",
        "    plt.imshow(mnist_x_train[i], cmap=plt.cm.binary)\n",
        "    plt.xlabel(class_names_mnist[mnist_y_train[i]])\n",
        "plt.show()\n"
      ],
      "metadata": {
        "id": "BXBwSa11xSot"
      },
      "execution_count": null,
      "outputs": []
    },
    {
      "cell_type": "code",
      "source": [
        "class_names_cifar10 = ['airplane', 'automobile', 'bird', 'cat', 'deer',\n",
        "                       'dog', 'frog', 'horse', 'ship', 'truck']\n",
        "\n",
        "plt.figure(figsize=(10, 10))\n",
        "for i in range(25):\n",
        "    plt.subplot(5, 5, i + 1)\n",
        "    plt.xticks([])\n",
        "    plt.yticks([])\n",
        "    plt.grid(False)\n",
        "    plt.imshow(cifar10_x_train[i], cmap=plt.cm.binary)\n",
        "    plt.xlabel(class_names_cifar10[cifar10_y_train[i][0]])\n",
        "plt.show()"
      ],
      "metadata": {
        "id": "azG2OawOxPYv"
      },
      "execution_count": null,
      "outputs": []
    },
    {
      "cell_type": "code",
      "source": [
        "# Create an instance of the ResNet50 model\n",
        "ResNet_model = keras.applications.ResNet50(weights='imagenet', include_top=False, input_shape=(224, 224, 3))\n",
        "\n",
        "# Print the model summary\n",
        "ResNet_model.summary()"
      ],
      "metadata": {
        "id": "Ytfyhg5nyf-g"
      },
      "execution_count": null,
      "outputs": []
    },
    {
      "cell_type": "code",
      "source": [
        "# Define the input shapes for MNIST and CIFAR-10\n",
        "input_shape_mnist = (28, 28, 1)\n",
        "input_shape_cifar10 = (32, 32, 3)\n",
        "\n",
        "# Create models for MNIST and CIFAR-10 using ResNet50 as a feature extractor\n",
        "mnist_model = keras.Sequential([\n",
        "    keras.layers.Flatten(input_shape=(28, 28)),\n",
        "    keras.layers.Dense(128, activation='relu'),\n",
        "    keras.layers.Dense(10, activation='softmax')\n",
        "])\n",
        "\n",
        "mnist_model.compile(optimizer='adam',\n",
        "                    loss='sparse_categorical_crossentropy',\n",
        "                    metrics=['accuracy'])\n",
        "cifar10_model = keras.Sequential([\n",
        "    keras.layers.Conv2D(32, (3, 3), activation='relu', input_shape=(32, 32, 3)),\n",
        "    keras.layers.MaxPooling2D((2, 2)),\n",
        "    keras.layers.Flatten(),\n",
        "    keras.layers.Dense(64, activation='relu'),\n",
        "    keras.layers.Dense(10, activation='softmax')\n",
        "])\n",
        "\n",
        "cifar10_model.compile(optimizer='adam',\n",
        "                      loss='sparse_categorical_crossentropy',\n",
        "                      metrics=['accuracy'])\n",
        "\n",
        "# Set the input shapes for the models\n",
        "mnist_model.build((None,) + input_shape_mnist)\n",
        "cifar10_model.build((None,) + input_shape_cifar10)\n",
        "\n",
        "# Compile the models\n",
        "mnist_model.compile(optimizer='adam', loss='sparse_categorical_crossentropy', metrics=['accuracy'])\n",
        "cifar10_model.compile(optimizer='adam', loss='sparse_categorical_crossentropy', metrics=['accuracy'])"
      ],
      "metadata": {
        "id": "_JVP8S-XZjsl"
      },
      "execution_count": null,
      "outputs": []
    },
    {
      "cell_type": "code",
      "source": [
        "# Create an instance of the ResNet50 model\n",
        "ResNet_model = keras.applications.ResNet50(weights='imagenet', include_top=False, input_shape=(224, 224, 3))\n",
        "\n",
        "# Set all layers in the ResNet50 model to non-trainable\n",
        "for layer in ResNet_model.layers:\n",
        "    layer.trainable = False\n",
        "\n",
        "# Define the new model using the functional API\n",
        "inputs = keras.Input(shape=(224, 224, 3))\n",
        "x = ResNet_model(inputs, training=False)  # Use the ResNet50 model as a layer\n",
        "x = GlobalAveragePooling2D()(x)\n",
        "x = Dense(1, activation='sigmoid')(x)\n",
        "\n",
        "model = keras.Model(inputs=inputs, outputs=x)\n",
        "\n",
        "model.summary()\n",
        "\n",
        "model.compile(optimizer='adam', loss='binary_crossentropy', metrics=['accuracy'])\n"
      ],
      "metadata": {
        "id": "tYrW-EiHs4_D"
      },
      "execution_count": null,
      "outputs": []
    },
    {
      "cell_type": "code",
      "source": [
        "mnist_model.fit(mnist_x_train, mnist_y_train, epochs=10)"
      ],
      "metadata": {
        "id": "OsRt_WeJs5Bv"
      },
      "execution_count": null,
      "outputs": []
    },
    {
      "cell_type": "code",
      "source": [
        "cifar10_model.fit(cifar10_x_train, cifar10_y_train, epochs=10)"
      ],
      "metadata": {
        "id": "y5yJEjl_s5De"
      },
      "execution_count": null,
      "outputs": []
    },
    {
      "cell_type": "code",
      "source": [
        "# Print confusion matrix and classification report for testing samples\n",
        "def print_confusion_matrix_and_metrics(model, x_test, y_test, dataset_name, class_names):\n",
        "    y_pred = np.argmax(model.predict(x_test), axis=1)\n",
        "    cm = confusion_matrix(y_test, y_pred)\n",
        "    plt.imshow(cm, interpolation='nearest', cmap=plt.cm.Blues)\n",
        "    plt.title(f\"Confusion Matrix - {dataset_name}\")\n",
        "    plt.colorbar()\n",
        "    tick_marks = np.arange(len(class_names))\n",
        "    plt.xticks(tick_marks, class_names, rotation=45)\n",
        "    plt.yticks(tick_marks, class_names)\n",
        "    plt.xlabel('Predicted Label')\n",
        "    plt.ylabel('True Label')\n",
        "    plt.show()\n",
        "\n",
        "   # Print precision with zero_division parameter set\n",
        "    precision = precision_score(y_test, y_pred, average='macro', zero_division=1.0)\n",
        "    print(f\"Precision - {dataset_name}: {precision}\")\n",
        "\n",
        "    # Print recall\n",
        "    recall = recall_score(y_test, y_pred, average='macro')\n",
        "    print(f\"Recall - {dataset_name}: {recall}\")\n",
        "    # print f1 score\n",
        "    f1 = f1_score(y_test, y_pred, average='macro')\n",
        "    print(f\"F1 score for {dataset_name}: {f1}\")\n",
        "\n",
        "print_confusion_matrix_and_metrics(mnist_model, mnist_x_test, mnist_y_test, \"MNIST\", class_names_mnist)"
      ],
      "metadata": {
        "id": "JB9kW_eRs5GZ"
      },
      "execution_count": null,
      "outputs": []
    },
    {
      "cell_type": "code",
      "source": [
        "print_confusion_matrix_and_metrics(cifar10_model, cifar10_x_test, cifar10_y_test, \"CIFAR-10\", class_names_cifar10)"
      ],
      "metadata": {
        "id": "nQI427ris5H-"
      },
      "execution_count": null,
      "outputs": []
    }
  ]
}